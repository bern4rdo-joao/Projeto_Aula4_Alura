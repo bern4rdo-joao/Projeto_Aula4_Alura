{
  "nbformat": 4,
  "nbformat_minor": 0,
  "metadata": {
    "colab": {
      "provenance": [],
      "authorship_tag": "ABX9TyNMpx6JVKwPehbWt+ZmXU+F",
      "include_colab_link": true
    },
    "kernelspec": {
      "name": "python3",
      "display_name": "Python 3"
    },
    "language_info": {
      "name": "python"
    }
  },
  "cells": [
    {
      "cell_type": "markdown",
      "metadata": {
        "id": "view-in-github",
        "colab_type": "text"
      },
      "source": [
        "<a href=\"https://colab.research.google.com/github/bern4rdo-joao/Projeto_Aula4_Alura/blob/main/chatbox.ipynb\" target=\"_parent\"><img src=\"https://colab.research.google.com/assets/colab-badge.svg\" alt=\"Open In Colab\"/></a>"
      ]
    },
    {
      "cell_type": "markdown",
      "source": [
        "\n",
        "Instalando o SKD do Google\n"
      ],
      "metadata": {
        "id": "T95txXtISBIM"
      }
    },
    {
      "cell_type": "code",
      "execution_count": 1,
      "metadata": {
        "id": "1o5iCUOxR42b"
      },
      "outputs": [],
      "source": [
        "!pip install -q -U google-generativeai"
      ]
    },
    {
      "cell_type": "markdown",
      "source": [
        "Importando o Python SDK\n"
      ],
      "metadata": {
        "id": "DTWwDvI4Sdi6"
      }
    },
    {
      "cell_type": "code",
      "source": [
        "import google.generativeai as genai\n",
        "\n",
        "GOOGLE_API_KEY= 'Cole sua API KEY'\n",
        "genai.configure(api_key=GOOGLE_API_KEY)"
      ],
      "metadata": {
        "id": "PwklrUMFSihk"
      },
      "execution_count": 2,
      "outputs": []
    },
    {
      "cell_type": "markdown",
      "source": [
        "Listando os modelos disponiveis"
      ],
      "metadata": {
        "id": "Rf0HiOiNSn3F"
      }
    },
    {
      "cell_type": "code",
      "source": [
        "for m in genai.list_models():\n",
        "  if 'generateContent' in m.supported_generation_methods:\n",
        "    print(m.name)"
      ],
      "metadata": {
        "colab": {
          "base_uri": "https://localhost:8080/",
          "height": 145
        },
        "id": "TiOWhYwjSlCF",
        "outputId": "f9752995-b318-4c8e-eb6c-d83a7ab5df96"
      },
      "execution_count": 3,
      "outputs": [
        {
          "output_type": "stream",
          "name": "stdout",
          "text": [
            "models/gemini-1.0-pro\n",
            "models/gemini-1.0-pro-001\n",
            "models/gemini-1.0-pro-latest\n",
            "models/gemini-1.0-pro-vision-latest\n",
            "models/gemini-1.5-pro-latest\n",
            "models/gemini-pro\n",
            "models/gemini-pro-vision\n"
          ]
        }
      ]
    },
    {
      "cell_type": "markdown",
      "source": [
        "Configurações da IA"
      ],
      "metadata": {
        "id": "9uG_-_DgSx7l"
      }
    },
    {
      "cell_type": "code",
      "source": [
        "config = {\n",
        "    \"candidate_count\": 1,\n",
        "    \"temperature\": 0.6,\n",
        "}\n",
        "Safety_settings = {\n",
        "    \"HARASSMENT\": 'BLOCK_NONE',\n",
        "    \"HATE\": 'BLOCK_NONE',\n",
        "    \"SEXUAL\": 'BLOCK_NONE',\n",
        "    \"DANGEROUS\": 'BLOCK_NONE',\n",
        "}"
      ],
      "metadata": {
        "id": "q9_0jCF5Svo4"
      },
      "execution_count": 4,
      "outputs": []
    },
    {
      "cell_type": "code",
      "source": [
        "model = genai.GenerativeModel(model_name=\"gemini-1.0-pro\",\n",
        "                              generation_config=config,\n",
        "                              safety_settings=Safety_settings)"
      ],
      "metadata": {
        "id": "7oSEnjPyS2RU"
      },
      "execution_count": 5,
      "outputs": []
    },
    {
      "cell_type": "code",
      "source": [
        "response = model.generate_content(\"esotu aprendendo sobre IA. discerte sobre os conceitos importantes sobres as IAs\")\n",
        "print(response.text)"
      ],
      "metadata": {
        "colab": {
          "base_uri": "https://localhost:8080/",
          "height": 748
        },
        "id": "pA4lpFheS7Cg",
        "outputId": "ac66937a-d64c-4241-c63b-47b23df15f93"
      },
      "execution_count": 6,
      "outputs": [
        {
          "output_type": "stream",
          "name": "stdout",
          "text": [
            "**Conceitos Importantes sobre Inteligência Artificial (IA)**\n",
            "\n",
            "**Aprendizado de Máquina (ML)**:\n",
            "* Subcampo da IA que permite que os computadores aprendam com dados sem serem explicitamente programados.\n",
            "* Tipos comuns incluem: aprendizado supervisionado, não supervisionado e por reforço.\n",
            "\n",
            "**Aprendizado Profundo (DL)**:\n",
            "* Subcampo do ML que usa redes neurais artificiais com várias camadas para processar dados complexos.\n",
            "* Usado em aplicativos como reconhecimento de imagem, processamento de linguagem natural e tradução automática.\n",
            "\n",
            "**Aprendizado por Reforço (RL)**:\n",
            "* Tipo de ML em que os agentes aprendem por meio de tentativa e erro, recebendo recompensas ou penalidades por suas ações.\n",
            "* Usado em aplicativos como jogos, robótica e otimização.\n",
            "\n",
            "**Redes Neurais Artificiais (ANNs)**:\n",
            "* Sistemas computacionais inspirados no cérebro humano que podem aprender e se adaptar com base em dados.\n",
            "* Consistem em camadas de neurônios artificiais que processam e transmitem informações.\n",
            "\n",
            "**Processamento de Linguagem Natural (PNL)**:\n",
            "* Subcampo da IA que permite que os computadores entendam e gerem a linguagem humana.\n",
            "* Usado em aplicativos como tradução automática, resumo de texto e chatbots.\n",
            "\n",
            "**Visão Computacional**:\n",
            "* Subcampo da IA que permite que os computadores \"vejam\" e interpretem imagens e vídeos.\n",
            "* Usado em aplicativos como reconhecimento facial, detecção de objetos e direção autônoma.\n",
            "\n",
            "**Robótica**:\n",
            "* Campo da IA que projeta, constrói e opera robôs que podem executar tarefas autonomamente ou com orientação humana.\n",
            "* Usado em aplicativos como fabricação, exploração espacial e assistência médica.\n",
            "\n",
            "**Ética e Responsabilidade da IA**:\n",
            "* Considerações éticas e sociais que acompanham o desenvolvimento e uso da IA.\n",
            "* Inclui preocupações sobre privacidade, viés, segurança e o impacto no emprego e na sociedade.\n",
            "\n",
            "**Tendências e Avanços:**\n",
            "\n",
            "* **IA Generativa**: Gera conteúdo novo, como texto, imagens e música.\n",
            "* **IA Explicável**: Fornece explicações sobre as decisões tomadas pela IA, melhorando a transparência e a confiança.\n",
            "* **IA Federada**: Treina modelos de IA usando dados de vários dispositivos e locais, preservando a privacidade.\n",
            "* **IA Quântica**: Aproveita os princípios da computação quântica para aprimorar o desempenho e resolver problemas complexos.\n"
          ]
        }
      ]
    },
    {
      "cell_type": "code",
      "source": [
        "chat = model.start_chat(history=[])"
      ],
      "metadata": {
        "id": "yS41r8ESTBGm"
      },
      "execution_count": 7,
      "outputs": []
    },
    {
      "cell_type": "code",
      "source": [
        "prompt = input(\"Escreva sua pergunta: \")\n",
        "\n",
        "while prompt != \"cansei\":\n",
        "    response = chat.send_message(prompt)\n",
        "    print(\"Resposta\", response.text, \"\\n\")\n",
        "    prompt = input(\"Escreva sua pergunta: \")\n",
        "\n",
        "prompt = input(\"Escreva sua pergunta: \")\n"
      ],
      "metadata": {
        "colab": {
          "base_uri": "https://localhost:8080/",
          "height": 108
        },
        "id": "GCedWm2BTIEE",
        "outputId": "eea55512-00f4-401e-c215-963139b69816"
      },
      "execution_count": 14,
      "outputs": [
        {
          "name": "stdout",
          "output_type": "stream",
          "text": [
            "Escreva sua pergunta: qual o carro mais rapido do mundo?\n",
            "Resposta ThrustSSC \n",
            "\n",
            "Escreva sua pergunta: cansei\n",
            "Escreva sua pergunta: fim\n"
          ]
        }
      ]
    },
    {
      "cell_type": "code",
      "source": [
        "#Melhorando a visualização\n",
        "#Código disponível em https://ai.google.dev/tutorials/python_quickstart#import_packages\n",
        "import textwrap\n",
        "from IPython.display import display\n",
        "from IPython.display import Markdown\n",
        "\n",
        "def to_markdown(text):\n",
        "  text = text.replace('•', '  *')\n",
        "  return Markdown(textwrap.indent(text, '> ', predicate=lambda _: True))\n",
        "\n",
        "#Imprimindo o histórico\n",
        "for message in chat.history:\n",
        "  display(to_markdown(f'**{message.role}**: {message.parts[0].text}'))\n",
        "  print('-------------------------------------------')"
      ],
      "metadata": {
        "colab": {
          "base_uri": "https://localhost:8080/",
          "height": 653
        },
        "id": "JBI7RcGsaBN5",
        "outputId": "6f80b8ee-d783-4e8f-b8ac-bae1cd608bbe"
      },
      "execution_count": 15,
      "outputs": [
        {
          "output_type": "display_data",
          "data": {
            "text/plain": [
              "<IPython.core.display.Markdown object>"
            ],
            "text/markdown": "> **user**: Qual a capital do Brasil?"
          },
          "metadata": {}
        },
        {
          "output_type": "stream",
          "name": "stdout",
          "text": [
            "-------------------------------------------\n"
          ]
        },
        {
          "output_type": "display_data",
          "data": {
            "text/plain": [
              "<IPython.core.display.Markdown object>"
            ],
            "text/markdown": "> **model**: Brasília"
          },
          "metadata": {}
        },
        {
          "output_type": "stream",
          "name": "stdout",
          "text": [
            "-------------------------------------------\n"
          ]
        },
        {
          "output_type": "display_data",
          "data": {
            "text/plain": [
              "<IPython.core.display.Markdown object>"
            ],
            "text/markdown": "> **user**: Qual a capital da Bahia"
          },
          "metadata": {}
        },
        {
          "output_type": "stream",
          "name": "stdout",
          "text": [
            "-------------------------------------------\n"
          ]
        },
        {
          "output_type": "display_data",
          "data": {
            "text/plain": [
              "<IPython.core.display.Markdown object>"
            ],
            "text/markdown": "> **model**: Salvador"
          },
          "metadata": {}
        },
        {
          "output_type": "stream",
          "name": "stdout",
          "text": [
            "-------------------------------------------\n"
          ]
        },
        {
          "output_type": "display_data",
          "data": {
            "text/plain": [
              "<IPython.core.display.Markdown object>"
            ],
            "text/markdown": "> **user**: Qual a comida tipica desse estado"
          },
          "metadata": {}
        },
        {
          "output_type": "stream",
          "name": "stdout",
          "text": [
            "-------------------------------------------\n"
          ]
        },
        {
          "output_type": "display_data",
          "data": {
            "text/plain": [
              "<IPython.core.display.Markdown object>"
            ],
            "text/markdown": "> **model**: Acarajé"
          },
          "metadata": {}
        },
        {
          "output_type": "stream",
          "name": "stdout",
          "text": [
            "-------------------------------------------\n"
          ]
        },
        {
          "output_type": "display_data",
          "data": {
            "text/plain": [
              "<IPython.core.display.Markdown object>"
            ],
            "text/markdown": "> **user**: qual a população desse estado?"
          },
          "metadata": {}
        },
        {
          "output_type": "stream",
          "name": "stdout",
          "text": [
            "-------------------------------------------\n"
          ]
        },
        {
          "output_type": "display_data",
          "data": {
            "text/plain": [
              "<IPython.core.display.Markdown object>"
            ],
            "text/markdown": "> **model**: 14.812.617 (estimativa para 2021)"
          },
          "metadata": {}
        },
        {
          "output_type": "stream",
          "name": "stdout",
          "text": [
            "-------------------------------------------\n"
          ]
        },
        {
          "output_type": "display_data",
          "data": {
            "text/plain": [
              "<IPython.core.display.Markdown object>"
            ],
            "text/markdown": "> **user**: qual o carro mais rapido do mundo?"
          },
          "metadata": {}
        },
        {
          "output_type": "stream",
          "name": "stdout",
          "text": [
            "-------------------------------------------\n"
          ]
        },
        {
          "output_type": "display_data",
          "data": {
            "text/plain": [
              "<IPython.core.display.Markdown object>"
            ],
            "text/markdown": "> **model**: ThrustSSC"
          },
          "metadata": {}
        },
        {
          "output_type": "stream",
          "name": "stdout",
          "text": [
            "-------------------------------------------\n"
          ]
        }
      ]
    }
  ]
}